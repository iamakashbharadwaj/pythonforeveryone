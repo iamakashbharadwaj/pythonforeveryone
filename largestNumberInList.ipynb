{
 "cells": [
  {
   "cell_type": "markdown",
   "id": "fe181087-f239-4442-8195-94badfb3fd8e",
   "metadata": {},
   "source": [
    "Finding the largest number in a list"
   ]
  },
  {
   "cell_type": "code",
   "execution_count": 2,
   "id": "cf93a14c-9e8e-4b0b-b720-b477ebc825ad",
   "metadata": {},
   "outputs": [
    {
     "name": "stdout",
     "output_type": "stream",
     "text": [
      "5\n"
     ]
    }
   ],
   "source": [
    "def largest(numbers):\n",
    "    largest_number = max(numbers)\n",
    "    return largest_number\n",
    "\n",
    "numbers = [1,2,3,4,5]\n",
    "print(largest(numbers))"
   ]
  },
  {
   "cell_type": "code",
   "execution_count": null,
   "id": "0a83996a-aeca-41d7-83e3-5218220a777f",
   "metadata": {},
   "outputs": [],
   "source": []
  }
 ],
 "metadata": {
  "kernelspec": {
   "display_name": "Python 3 (ipykernel)",
   "language": "python",
   "name": "python3"
  },
  "language_info": {
   "codemirror_mode": {
    "name": "ipython",
    "version": 3
   },
   "file_extension": ".py",
   "mimetype": "text/x-python",
   "name": "python",
   "nbconvert_exporter": "python",
   "pygments_lexer": "ipython3",
   "version": "3.12.4"
  }
 },
 "nbformat": 4,
 "nbformat_minor": 5
}
