{
 "cells": [
  {
   "cell_type": "markdown",
   "id": "4f493917-c9b9-4ed6-9b05-66166ce77abf",
   "metadata": {},
   "source": [
    "3. **Create a Class for a Stack and Implement Push, Pop Operations**\n",
    "    \n",
    "    (Problem: Implement a stack using OOP principles.)"
   ]
  },
  {
   "cell_type": "code",
   "execution_count": 1,
   "id": "ffd4a1b8-3859-4c4e-a95f-caea106264ee",
   "metadata": {},
   "outputs": [
    {
     "data": {
      "text/plain": [
       "[20]"
      ]
     },
     "execution_count": 1,
     "metadata": {},
     "output_type": "execute_result"
    }
   ],
   "source": [
    "class Stack():\n",
    "    def __init__(self):\n",
    "        self.stack = []\n",
    "    def push(self,item):\n",
    "        self.stack.append(item)\n",
    "        return self.stack\n",
    "    def pop(self):\n",
    "        if not self.stack:\n",
    "            return \"Nothing remaining to pop\"\n",
    "        else:\n",
    "            item = self.stack.pop()\n",
    "            return f\"{item} was popped from stack\"\n",
    "\n",
    "s = Stack()\n",
    "s.push(20)\n",
    "\n",
    "          "
   ]
  },
  {
   "cell_type": "code",
   "execution_count": 2,
   "id": "77c0273f-57ce-4546-9668-709efc05ad42",
   "metadata": {},
   "outputs": [
    {
     "data": {
      "text/plain": [
       "[20, 50]"
      ]
     },
     "execution_count": 2,
     "metadata": {},
     "output_type": "execute_result"
    }
   ],
   "source": [
    "s.push(50)"
   ]
  },
  {
   "cell_type": "code",
   "execution_count": 3,
   "id": "b2c8d080-f58e-4965-88a4-1249c09185c3",
   "metadata": {},
   "outputs": [
    {
     "data": {
      "text/plain": [
       "'50 was popped from stack'"
      ]
     },
     "execution_count": 3,
     "metadata": {},
     "output_type": "execute_result"
    }
   ],
   "source": [
    "s.pop()"
   ]
  },
  {
   "cell_type": "code",
   "execution_count": 4,
   "id": "7b03dedc-7907-45df-863d-a1baac5e801e",
   "metadata": {},
   "outputs": [
    {
     "data": {
      "text/plain": [
       "'20 was popped from stack'"
      ]
     },
     "execution_count": 4,
     "metadata": {},
     "output_type": "execute_result"
    }
   ],
   "source": [
    "s.pop()"
   ]
  },
  {
   "cell_type": "code",
   "execution_count": 5,
   "id": "e3be0088-bffd-44df-9b04-493de03aad74",
   "metadata": {},
   "outputs": [
    {
     "data": {
      "text/plain": [
       "'Nothing remaining to pop'"
      ]
     },
     "execution_count": 5,
     "metadata": {},
     "output_type": "execute_result"
    }
   ],
   "source": [
    "s.pop()"
   ]
  }
 ],
 "metadata": {
  "kernelspec": {
   "display_name": "Python 3 (ipykernel)",
   "language": "python",
   "name": "python3"
  },
  "language_info": {
   "codemirror_mode": {
    "name": "ipython",
    "version": 3
   },
   "file_extension": ".py",
   "mimetype": "text/x-python",
   "name": "python",
   "nbconvert_exporter": "python",
   "pygments_lexer": "ipython3",
   "version": "3.12.4"
  }
 },
 "nbformat": 4,
 "nbformat_minor": 5
}
