{
 "cells": [
  {
   "cell_type": "markdown",
   "id": "e38addc9-9266-4e11-8e74-017eed982dd0",
   "metadata": {},
   "source": [
    "FizzBuzz\n"
   ]
  },
  {
   "cell_type": "markdown",
   "id": "c6056530-8104-4281-91e0-6196b4cd4f7f",
   "metadata": {},
   "source": [
    "\n",
    "The game is simple:\n",
    "\n",
    "1. Take an integer input from the user.\n",
    "2. If the number is divisible by 3 and 5 (i.e., it's a multiple of both), print \"Fizz Buzz\".\n",
    "3. If the number is only divisible by 3, print \"Fizz\".\n",
    "4. If the number is only divisible by 5, print \"Buzz\"."
   ]
  },
  {
   "cell_type": "code",
   "execution_count": 1,
   "id": "1a9c13fe-230c-4a8c-bfee-d2f49c924c66",
   "metadata": {},
   "outputs": [],
   "source": [
    "def FizzBuzz(number):\n",
    "    if number % 3 == 0 and number % 5 == 0:\n",
    "        return \"FizzBuzz\"\n",
    "    elif number % 3 == 0:\n",
    "        return \"Fizz\"\n",
    "    elif number % 5 == 0:\n",
    "        return \"Buzz\"\n",
    "    else:\n",
    "        return \"None\"\n",
    "\n"
   ]
  },
  {
   "cell_type": "code",
   "execution_count": 3,
   "id": "686ba63e-0039-47bd-8b09-6a5670a529f9",
   "metadata": {},
   "outputs": [
    {
     "data": {
      "text/plain": [
       "'Buzz'"
      ]
     },
     "execution_count": 3,
     "metadata": {},
     "output_type": "execute_result"
    }
   ],
   "source": [
    "FizzBuzz(10)\n"
   ]
  },
  {
   "cell_type": "code",
   "execution_count": 4,
   "id": "f7b7c522-602e-43c3-9f2a-c4397504ee7d",
   "metadata": {},
   "outputs": [
    {
     "data": {
      "text/plain": [
       "'None'"
      ]
     },
     "execution_count": 4,
     "metadata": {},
     "output_type": "execute_result"
    }
   ],
   "source": [
    "FizzBuzz(11)\n"
   ]
  },
  {
   "cell_type": "code",
   "execution_count": 5,
   "id": "bfc9ef9c-9d05-440a-85d9-6b209458b311",
   "metadata": {},
   "outputs": [
    {
     "data": {
      "text/plain": [
       "'Fizz'"
      ]
     },
     "execution_count": 5,
     "metadata": {},
     "output_type": "execute_result"
    }
   ],
   "source": [
    "\n",
    "FizzBuzz(12)\n"
   ]
  },
  {
   "cell_type": "code",
   "execution_count": 6,
   "id": "e5abe713-cc29-4427-a11d-ac96a80f24a7",
   "metadata": {},
   "outputs": [
    {
     "data": {
      "text/plain": [
       "'FizzBuzz'"
      ]
     },
     "execution_count": 6,
     "metadata": {},
     "output_type": "execute_result"
    }
   ],
   "source": [
    "\n",
    "FizzBuzz(15)"
   ]
  }
 ],
 "metadata": {
  "kernelspec": {
   "display_name": "Python 3 (ipykernel)",
   "language": "python",
   "name": "python3"
  },
  "language_info": {
   "codemirror_mode": {
    "name": "ipython",
    "version": 3
   },
   "file_extension": ".py",
   "mimetype": "text/x-python",
   "name": "python",
   "nbconvert_exporter": "python",
   "pygments_lexer": "ipython3",
   "version": "3.12.4"
  }
 },
 "nbformat": 4,
 "nbformat_minor": 5
}
