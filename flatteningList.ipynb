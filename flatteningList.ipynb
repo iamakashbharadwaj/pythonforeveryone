{
 "cells": [
  {
   "cell_type": "markdown",
   "id": "6debb2ee-4654-4346-a583-7033682b7ac5",
   "metadata": {},
   "source": [
    "###Flattening list using recursion###\n"
   ]
  },
  {
   "cell_type": "code",
   "execution_count": 6,
   "id": "d9baf852-5811-4ab9-a7a4-804c8feba884",
   "metadata": {},
   "outputs": [
    {
     "name": "stdout",
     "output_type": "stream",
     "text": [
      "[2, 7, 3, 2, 4, 7, 2, 4, 5, 7, 9, 11]\n"
     ]
    }
   ],
   "source": [
    "def flatten(lst):\n",
    "    flatten_list = []\n",
    "    for item in lst:\n",
    "        if isinstance(item,list):\n",
    "            flatten_list.extend(flatten(item))\n",
    "        else:\n",
    "            flatten_list.append(item)\n",
    "    return flatten_list\n",
    "mylist = [2, 7, [3, 2, 4,[7,2],4,5],7, 9, 11]\n",
    "new_list = flatten(mylist)\n",
    "print(new_list)"
   ]
  },
  {
   "cell_type": "markdown",
   "id": "e15b5cf4-d2ff-4584-a720-5ea76ea5e804",
   "metadata": {},
   "source": [
    "_Flattening list using recursion_"
   ]
  },
  {
   "cell_type": "code",
   "execution_count": 8,
   "id": "736b552c-d021-4073-8970-83e67aeaf6cb",
   "metadata": {},
   "outputs": [
    {
     "name": "stdout",
     "output_type": "stream",
     "text": [
      "[2, 7, 3, 2, 4, 7, 2, 4, 5, 7, 9, 11]\n"
     ]
    }
   ],
   "source": [
    "def plainlist(lst):\n",
    "    transformed_list = []\n",
    "    for item in lst:\n",
    "        if isinstance(item, list):\n",
    "            transformed_list.extend(plainlist(item))\n",
    "        else:\n",
    "            transformed_list.append(item)\n",
    "    return transformed_list\n",
    "mylist2 = [2, 7, [3, 2, 4,[7,2],4,5],7, 9, 11]\n",
    "output2 = plainlist(mylist2)\n",
    "print(output2)\n",
    "\n",
    "    "
   ]
  }
 ],
 "metadata": {
  "kernelspec": {
   "display_name": "Python 3 (ipykernel)",
   "language": "python",
   "name": "python3"
  },
  "language_info": {
   "codemirror_mode": {
    "name": "ipython",
    "version": 3
   },
   "file_extension": ".py",
   "mimetype": "text/x-python",
   "name": "python",
   "nbconvert_exporter": "python",
   "pygments_lexer": "ipython3",
   "version": "3.12.4"
  }
 },
 "nbformat": 4,
 "nbformat_minor": 5
}
