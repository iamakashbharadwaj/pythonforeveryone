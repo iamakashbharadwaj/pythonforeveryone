{
 "cells": [
  {
   "cell_type": "markdown",
   "id": "c674e8c3-0ea7-47fa-8db1-42e8104af2fe",
   "metadata": {},
   "source": [
    "_Given a list, return a dictionary with the frequency of each element_"
   ]
  },
  {
   "cell_type": "code",
   "execution_count": 1,
   "id": "af7e4914-0a70-46b1-b413-9a3893f87397",
   "metadata": {},
   "outputs": [
    {
     "name": "stdout",
     "output_type": "stream",
     "text": [
      "{0: 3, 3: 2, 2: 2, 1: 3}\n"
     ]
    }
   ],
   "source": [
    "import random\n",
    "def counter(mylist):\n",
    "    dict = {}\n",
    "    for item in mylist:\n",
    "        if item in dict:\n",
    "            dict[item] += 1\n",
    "        else:\n",
    "            dict[item] = 1\n",
    "    return dict\n",
    "mylist = [random.randint(0,3) for _ in range(0,10)]\n",
    "output = counter(mylist)\n",
    "print(output)\n"
   ]
  },
  {
   "cell_type": "code",
   "execution_count": null,
   "id": "5a8dbb54-4089-4e88-a1ca-2dacd9b33901",
   "metadata": {},
   "outputs": [],
   "source": [
    "\n",
    "    "
   ]
  }
 ],
 "metadata": {
  "kernelspec": {
   "display_name": "Python 3 (ipykernel)",
   "language": "python",
   "name": "python3"
  },
  "language_info": {
   "codemirror_mode": {
    "name": "ipython",
    "version": 3
   },
   "file_extension": ".py",
   "mimetype": "text/x-python",
   "name": "python",
   "nbconvert_exporter": "python",
   "pygments_lexer": "ipython3",
   "version": "3.12.4"
  }
 },
 "nbformat": 4,
 "nbformat_minor": 5
}
