{
 "cells": [
  {
   "cell_type": "markdown",
   "id": "02ce7763-6dca-42c6-b671-93ca8f4421d0",
   "metadata": {},
   "source": [
    "**Two Sum Problem**"
   ]
  },
  {
   "cell_type": "code",
   "execution_count": 11,
   "id": "c6da0bec-5c73-419a-a663-afdd3f0a6f13",
   "metadata": {},
   "outputs": [],
   "source": [
    "nums = [2,8,4,7]\n",
    "target = 6"
   ]
  },
  {
   "cell_type": "code",
   "execution_count": 12,
   "id": "fbd3627e-7ad0-48b7-a03c-f66181c878be",
   "metadata": {},
   "outputs": [],
   "source": [
    "def twoSum(nums,target):\n",
    "    my_dict = {}\n",
    "\n",
    "    for index,num in enumerate(nums):\n",
    "        complement = target - index\n",
    "\n",
    "        if complement in my_dict:\n",
    "            print(my_dict[complement], index)\n",
    "        my_dict[num] = index\n",
    "        "
   ]
  },
  {
   "cell_type": "code",
   "execution_count": 15,
   "id": "f0847f71-74d9-4c6a-993e-b98471a5a843",
   "metadata": {},
   "outputs": [],
   "source": [
    "twoSum(nums,target)"
   ]
  }
 ],
 "metadata": {
  "kernelspec": {
   "display_name": "Python 3 (ipykernel)",
   "language": "python",
   "name": "python3"
  },
  "language_info": {
   "codemirror_mode": {
    "name": "ipython",
    "version": 3
   },
   "file_extension": ".py",
   "mimetype": "text/x-python",
   "name": "python",
   "nbconvert_exporter": "python",
   "pygments_lexer": "ipython3",
   "version": "3.12.4"
  }
 },
 "nbformat": 4,
 "nbformat_minor": 5
}
