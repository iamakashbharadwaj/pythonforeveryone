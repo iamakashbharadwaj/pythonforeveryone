{
 "cells": [
  {
   "cell_type": "markdown",
   "id": "9639584f-954b-478e-9573-89cdfa2b93af",
   "metadata": {},
   "source": [
    "### Learning Generator Functionalities\n"
   ]
  },
  {
   "cell_type": "code",
   "execution_count": null,
   "id": "e3e86cd1-e887-4d04-aac4-1c40e943c372",
   "metadata": {},
   "outputs": [],
   "source": []
  },
  {
   "cell_type": "code",
   "execution_count": null,
   "id": "979cb6a3-d3dc-4c68-9c88-d32fac21d46f",
   "metadata": {},
   "outputs": [],
   "source": []
  }
 ],
 "metadata": {
  "kernelspec": {
   "display_name": "Python 3 (ipykernel)",
   "language": "python",
   "name": "python3"
  },
  "language_info": {
   "codemirror_mode": {
    "name": "ipython",
    "version": 3
   },
   "file_extension": ".py",
   "mimetype": "text/x-python",
   "name": "python",
   "nbconvert_exporter": "python",
   "pygments_lexer": "ipython3",
   "version": "3.12.4"
  }
 },
 "nbformat": 4,
 "nbformat_minor": 5
}
