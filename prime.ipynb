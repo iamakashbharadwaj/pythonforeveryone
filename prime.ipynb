{
 "cells": [
  {
   "cell_type": "markdown",
   "id": "479ee007-e82b-409c-9fa9-7abe47631104",
   "metadata": {},
   "source": [
    "To check whether a given number is prime"
   ]
  },
  {
   "cell_type": "code",
   "execution_count": null,
   "id": "3e183097-f330-4b90-b15a-1fe949976eb5",
   "metadata": {},
   "outputs": [],
   "source": []
  }
 ],
 "metadata": {
  "kernelspec": {
   "display_name": "Python 3 (ipykernel)",
   "language": "python",
   "name": "python3"
  },
  "language_info": {
   "codemirror_mode": {
    "name": "ipython",
    "version": 3
   },
   "file_extension": ".py",
   "mimetype": "text/x-python",
   "name": "python",
   "nbconvert_exporter": "python",
   "pygments_lexer": "ipython3",
   "version": "3.12.4"
  }
 },
 "nbformat": 4,
 "nbformat_minor": 5
}
