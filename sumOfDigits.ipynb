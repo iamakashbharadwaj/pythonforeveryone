{
 "cells": [
  {
   "cell_type": "markdown",
   "id": "5c3096b8-ed37-41f4-a561-974435833b47",
   "metadata": {},
   "source": [
    "Sum of Digits in a number"
   ]
  },
  {
   "cell_type": "code",
   "execution_count": 1,
   "id": "3ebda33c-a97b-44e9-bfe0-f17fa21b5d17",
   "metadata": {},
   "outputs": [
    {
     "name": "stdin",
     "output_type": "stream",
     "text": [
      "Please enter any number:  1231231\n"
     ]
    },
    {
     "name": "stdout",
     "output_type": "stream",
     "text": [
      "The sum of the digits is 13\n"
     ]
    }
   ],
   "source": [
    "def total():\n",
    "    try:\n",
    "        number = input(\"Please enter any number: \")\n",
    "        \n",
    "        # Filter out non-digit characters and convert to integers using map\n",
    "        number_list = list(map(int, filter(str.isdigit, number)))\n",
    "        \n",
    "        # Sum the digits\n",
    "        result = sum(number_list)\n",
    "        \n",
    "        return f\"The sum of the digits is {result}\"\n",
    "    \n",
    "    except ValueError:\n",
    "        return \"Please enter a valid input\"\n",
    "\n",
    "# Call the function and print the result\n",
    "answer = total()\n",
    "print(answer)\n",
    "\n",
    "\n",
    "        \n",
    "        "
   ]
  },
  {
   "cell_type": "code",
   "execution_count": null,
   "id": "f595754d-05c7-4578-a404-5223b8050de0",
   "metadata": {},
   "outputs": [],
   "source": []
  }
 ],
 "metadata": {
  "kernelspec": {
   "display_name": "Python 3 (ipykernel)",
   "language": "python",
   "name": "python3"
  },
  "language_info": {
   "codemirror_mode": {
    "name": "ipython",
    "version": 3
   },
   "file_extension": ".py",
   "mimetype": "text/x-python",
   "name": "python",
   "nbconvert_exporter": "python",
   "pygments_lexer": "ipython3",
   "version": "3.12.4"
  }
 },
 "nbformat": 4,
 "nbformat_minor": 5
}
