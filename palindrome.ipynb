{
 "cells": [
  {
   "cell_type": "code",
   "execution_count": null,
   "id": "60017185-ae2a-4043-a6d1-cab6554452d2",
   "metadata": {},
   "outputs": [],
   "source": [
    "Check if a string is a palindrome or not"
   ]
  },
  {
   "cell_type": "code",
   "execution_count": 5,
   "id": "98360b92-592a-40a2-90eb-deef91abca14",
   "metadata": {},
   "outputs": [
    {
     "name": "stdin",
     "output_type": "stream",
     "text": [
      "Please Enter a word:  hello\n"
     ]
    },
    {
     "data": {
      "text/plain": [
       "False"
      ]
     },
     "execution_count": 5,
     "metadata": {},
     "output_type": "execute_result"
    }
   ],
   "source": [
    "def palindrome():\n",
    "    word = input(\"Please Enter a word: \")\n",
    "    if word[::-1] == word:\n",
    "        return True\n",
    "    else:\n",
    "        return False\n",
    "\n",
    "palindrome()"
   ]
  },
  {
   "cell_type": "code",
   "execution_count": null,
   "id": "741ae1a1-e7fd-4f0c-8692-608c2889603d",
   "metadata": {},
   "outputs": [],
   "source": []
  }
 ],
 "metadata": {
  "kernelspec": {
   "display_name": "Python 3 (ipykernel)",
   "language": "python",
   "name": "python3"
  },
  "language_info": {
   "codemirror_mode": {
    "name": "ipython",
    "version": 3
   },
   "file_extension": ".py",
   "mimetype": "text/x-python",
   "name": "python",
   "nbconvert_exporter": "python",
   "pygments_lexer": "ipython3",
   "version": "3.12.4"
  }
 },
 "nbformat": 4,
 "nbformat_minor": 5
}
