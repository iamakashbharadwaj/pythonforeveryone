{
 "cells": [
  {
   "cell_type": "markdown",
   "id": "288a5930-39a7-4b0b-9c08-28c762b1e2f8",
   "metadata": {},
   "source": [
    "**Reading and writing contents to a file**"
   ]
  },
  {
   "cell_type": "code",
   "execution_count": 3,
   "id": "7a152d8f-3596-457a-8cd4-f46ae96e3fef",
   "metadata": {},
   "outputs": [],
   "source": [
    "text = \"Hello I am a human\""
   ]
  },
  {
   "cell_type": "code",
   "execution_count": 4,
   "id": "c0b15524-a4ed-44da-bfb4-d25249032dfc",
   "metadata": {},
   "outputs": [],
   "source": [
    "with open('source.txt', 'w') as i:\n",
    "    i.write(text)\n",
    "with open('source.txt', 'r') as r:\n",
    "    r.read()\n",
    "    \n",
    "    \n",
    "    "
   ]
  },
  {
   "cell_type": "code",
   "execution_count": null,
   "id": "d10df5a9-1f06-43ae-8343-6bb1c73c80cb",
   "metadata": {},
   "outputs": [],
   "source": []
  }
 ],
 "metadata": {
  "kernelspec": {
   "display_name": "Python 3 (ipykernel)",
   "language": "python",
   "name": "python3"
  },
  "language_info": {
   "codemirror_mode": {
    "name": "ipython",
    "version": 3
   },
   "file_extension": ".py",
   "mimetype": "text/x-python",
   "name": "python",
   "nbconvert_exporter": "python",
   "pygments_lexer": "ipython3",
   "version": "3.12.4"
  }
 },
 "nbformat": 4,
 "nbformat_minor": 5
}
