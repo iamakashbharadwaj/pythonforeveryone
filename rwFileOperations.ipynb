{
 "cells": [
  {
   "cell_type": "markdown",
   "id": "288a5930-39a7-4b0b-9c08-28c762b1e2f8",
   "metadata": {},
   "source": [
    "**Reading and writing contents to a file**"
   ]
  },
  {
   "cell_type": "code",
   "execution_count": 6,
   "id": "7a152d8f-3596-457a-8cd4-f46ae96e3fef",
   "metadata": {},
   "outputs": [],
   "source": [
    "text = \"Hello I am a human\""
   ]
  },
  {
   "cell_type": "code",
   "execution_count": 7,
   "id": "d10df5a9-1f06-43ae-8343-6bb1c73c80cb",
   "metadata": {},
   "outputs": [
    {
     "name": "stdout",
     "output_type": "stream",
     "text": [
      "copied successfully\n"
     ]
    }
   ],
   "source": [
    "def copy(source, destination):\n",
    "    try:\n",
    "        with open (source, 'r') as src:\n",
    "            content = src.read()\n",
    "        with open (destination, 'w') as dst:\n",
    "            dst.write(content)\n",
    "            print(\"copied successfully\")\n",
    "\n",
    "    except FileNotFoundError:\n",
    "        print(\"file not found\")\n",
    "    except Exception as e:\n",
    "        print(e)\n",
    "\n",
    "source = 'source.txt'\n",
    "destination = 'destination.txt'\n",
    "copy(source,destination)"
   ]
  },
  {
   "cell_type": "code",
   "execution_count": null,
   "id": "af9d04d4-5064-49ce-8acb-2f8c5556e2d7",
   "metadata": {},
   "outputs": [],
   "source": []
  }
 ],
 "metadata": {
  "kernelspec": {
   "display_name": "Python 3 (ipykernel)",
   "language": "python",
   "name": "python3"
  },
  "language_info": {
   "codemirror_mode": {
    "name": "ipython",
    "version": 3
   },
   "file_extension": ".py",
   "mimetype": "text/x-python",
   "name": "python",
   "nbconvert_exporter": "python",
   "pygments_lexer": "ipython3",
   "version": "3.12.4"
  }
 },
 "nbformat": 4,
 "nbformat_minor": 5
}
